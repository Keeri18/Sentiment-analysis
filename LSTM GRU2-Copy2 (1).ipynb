{
 "cells": [
  {
   "cell_type": "code",
   "execution_count": 1,
   "metadata": {
    "execution": {
     "iopub.execute_input": "2022-04-08T20:09:58.922266Z",
     "iopub.status.busy": "2022-04-08T20:09:58.921313Z",
     "iopub.status.idle": "2022-04-08T20:09:59.677966Z",
     "shell.execute_reply": "2022-04-08T20:09:59.677250Z",
     "shell.execute_reply.started": "2022-04-08T19:36:08.769384Z"
    },
    "papermill": {
     "duration": 0.781878,
     "end_time": "2022-04-08T20:09:59.678147",
     "exception": false,
     "start_time": "2022-04-08T20:09:58.896269",
     "status": "completed"
    },
    "tags": []
   },
   "outputs": [],
   "source": [
    "import numpy as np\n",
    "import pandas as pd\n",
    "import tensorflow as tf\n",
    "import matplotlib.pyplot as plt\n",
    "import seaborn as sns\n",
    "import logging\n",
    "plt.style.use('fivethirtyeight')\n",
    "\n",
    "from tensorflow.keras.preprocessing.text import Tokenizer\n",
    "from tensorflow.keras.preprocessing.sequence import pad_sequences\n",
    "from tensorflow.keras.layers import Dense, Flatten, Embedding, LSTM, GRU\n",
    "from tensorflow.keras.models import Sequential\n",
    "from tensorflow.keras.datasets import imdb"
   ]
  },
  {
   "cell_type": "code",
   "execution_count": 2,
   "metadata": {
    "execution": {
     "iopub.execute_input": "2022-04-08T20:09:59.722938Z",
     "iopub.status.busy": "2022-04-08T20:09:59.722297Z",
     "iopub.status.idle": "2022-04-08T20:10:02.389321Z",
     "shell.execute_reply": "2022-04-08T20:10:02.388750Z",
     "shell.execute_reply.started": "2022-04-08T19:36:08.943171Z"
    },
    "papermill": {
     "duration": 2.690349,
     "end_time": "2022-04-08T20:10:02.389438",
     "exception": false,
     "start_time": "2022-04-08T20:09:59.699089",
     "status": "completed"
    },
    "tags": []
   },
   "outputs": [],
   "source": [
    "data = pd.read_csv('../input/imdb-review-dataset/imdb_master.csv',encoding='ISO-8859-1')"
   ]
  },
  {
   "cell_type": "code",
   "execution_count": 3,
   "metadata": {
    "_cell_guid": "b1076dfc-b9ad-4769-8c92-a6c4dae69d19",
    "_uuid": "8f2839f25d086af736a60e9eeb907d3b93b6e0e5",
    "execution": {
     "iopub.execute_input": "2022-04-08T20:10:02.453096Z",
     "iopub.status.busy": "2022-04-08T20:10:02.452111Z",
     "iopub.status.idle": "2022-04-08T20:10:02.455273Z",
     "shell.execute_reply": "2022-04-08T20:10:02.454751Z",
     "shell.execute_reply.started": "2022-04-08T19:36:10.206392Z"
    },
    "papermill": {
     "duration": 0.044417,
     "end_time": "2022-04-08T20:10:02.455390",
     "exception": false,
     "start_time": "2022-04-08T20:10:02.410973",
     "status": "completed"
    },
    "tags": []
   },
   "outputs": [],
   "source": [
    "class IMDBSentiMentAnalysis:\n",
    "    \n",
    "    def __init__(self, data, maxlen=100, num_words=10000):\n",
    "        \n",
    "        self.model = None\n",
    "        self.history = None\n",
    "        self.data = data\n",
    "        self.maxlen = maxlen\n",
    "        self.num_words = num_words\n",
    "        \n",
    "    def process_data(self):\n",
    "        print(\"processing data...\")\n",
    "        data = self.data[self.data.label!='unsup']\n",
    "        sns.countplot(x='label',data=data)\n",
    "        data['out'] = data['label']\n",
    "        \n",
    "        data['out'][data.out=='neg']=0\n",
    "        data['out'][data.out=='pos']=1\n",
    "        # Another way data['out'] = data['out'].map({1:'pos',0:'neg'})\n",
    "        np.unique(data.out)\n",
    "        #data['out'] = data['label'].map({1:'pos',0:'neg'})\n",
    "        \n",
    "        req_data = data[['review','out']]\n",
    "\n",
    "        self.texts = np.array(req_data.review)\n",
    "        self.labels = np.array(req_data.out)\n",
    "        self.convert_data_to_padded_sequence()\n",
    "            \n",
    "            \n",
    "    def convert_data_to_padded_sequence(self):\n",
    "        print(\"Converting data to Sequences\")\n",
    "        # num_words: Top No. of words to be tokenized. Rest will be marked as unknown or ignored.\n",
    "        tokenizer = Tokenizer(num_words=self.num_words) \n",
    "        \n",
    "        # tokenizing based on \"texts\". This step generates the word_index and map each word to an integer other than 0.\n",
    "        tokenizer.fit_on_texts(self.texts)\n",
    "        \n",
    "        # generating sequence based on tokenizer's word_index. Each sentence will now be represented by combination of numericals\n",
    "        # Example: \"Good movie\" may be represented by [22, 37]\n",
    "        seq = tokenizer.texts_to_sequences(self.texts)\n",
    "        \n",
    "        self.word_index = tokenizer.word_index\n",
    "        # padding each numerical representation of sentence to have fixed length.\n",
    "\n",
    "        self.padded_seq = np.array(pad_sequences(seq,maxlen=self.maxlen))\n",
    "        print(\"Data converted to Sequences...\")\n",
    "        \n",
    "    \n",
    "    \n",
    "    def plot_model_output(self):\n",
    "        history = self.history\n",
    "        epochs = self.epochs\n",
    "        plt.figure()\n",
    "        plt.plot(range(epochs,),history.history['loss'],label = 'training_loss')\n",
    "        plt.plot(range(epochs,),history.history['val_loss'],label = 'validation_loss')\n",
    "        plt.legend()\n",
    "        plt.figure()\n",
    "        plt.plot(range(epochs,),history.history['acc'],label = 'training_accuracy')\n",
    "        plt.plot(range(epochs,),history.history['val_acc'],label = 'validation_accuracy')\n",
    "        plt.legend()\n",
    "        plt.show()\n",
    "\n",
    "    def init_model(self, model = None, gru=False):\n",
    "        \n",
    "        if model is None:\n",
    "            print(\"Initialising default model\")\n",
    "            model = Sequential()\n",
    "            embedding = Embedding(self.num_words, 32, input_length = self.maxlen, name='embedding')\n",
    "            model.add(embedding)\n",
    "            if gru:\n",
    "                model.add(GRU(32))\n",
    "            else:\n",
    "                model.add(LSTM(32))\n",
    "            model.add(Flatten())\n",
    "            model.add(Dense(1,activation='sigmoid'))\n",
    "            self.model = model\n",
    "        else:\n",
    "            print(\"Initialising model passed\")\n",
    "            self.model = model\n",
    "\n",
    "        return self.model.summary()\n",
    "\n",
    "    def run_the_model(self,optimizer = 'rmsprop', epochs = 10, validation_split=0.2):\n",
    "        \n",
    "        self.model.compile(optimizer=optimizer,loss='binary_crossentropy',metrics=['acc'])\n",
    "        self.epochs = epochs\n",
    "\n",
    "        self.history = self.model.fit(self.padded_seq,np.asarray(self.labels).astype(np.uint8),epochs=epochs,validation_split=validation_split)\n",
    "        \n",
    "        self.plot_model_output()\n",
    "    "
   ]
  },
  {
   "cell_type": "code",
   "execution_count": 4,
   "metadata": {
    "_cell_guid": "79c7e3d0-c299-4dcb-8224-4455121ee9b0",
    "_uuid": "d629ff2d2480ee46fbb7e2d37f6b5fab8052498a",
    "execution": {
     "iopub.execute_input": "2022-04-08T20:10:02.511382Z",
     "iopub.status.busy": "2022-04-08T20:10:02.510272Z",
     "iopub.status.idle": "2022-04-08T20:10:19.537492Z",
     "shell.execute_reply": "2022-04-08T20:10:19.538048Z",
     "shell.execute_reply.started": "2022-04-08T19:36:10.231841Z"
    },
    "papermill": {
     "duration": 17.062438,
     "end_time": "2022-04-08T20:10:19.538200",
     "exception": false,
     "start_time": "2022-04-08T20:10:02.475762",
     "status": "completed"
    },
    "tags": []
   },
   "outputs": [
    {
     "name": "stdout",
     "output_type": "stream",
     "text": [
      "Initialising IMDB object\n",
      "processing data...\n",
      "Converting data to Sequences\n"
     ]
    },
    {
     "name": "stderr",
     "output_type": "stream",
     "text": [
      "/opt/conda/lib/python3.7/site-packages/ipykernel_launcher.py:15: SettingWithCopyWarning: \n",
      "A value is trying to be set on a copy of a slice from a DataFrame.\n",
      "Try using .loc[row_indexer,col_indexer] = value instead\n",
      "\n",
      "See the caveats in the documentation: https://pandas.pydata.org/pandas-docs/stable/user_guide/indexing.html#returning-a-view-versus-a-copy\n",
      "  from ipykernel import kernelapp as app\n",
      "/opt/conda/lib/python3.7/site-packages/ipykernel_launcher.py:17: SettingWithCopyWarning: \n",
      "A value is trying to be set on a copy of a slice from a DataFrame\n",
      "\n",
      "See the caveats in the documentation: https://pandas.pydata.org/pandas-docs/stable/user_guide/indexing.html#returning-a-view-versus-a-copy\n",
      "/opt/conda/lib/python3.7/site-packages/pandas/core/generic.py:8765: SettingWithCopyWarning: \n",
      "A value is trying to be set on a copy of a slice from a DataFrame\n",
      "\n",
      "See the caveats in the documentation: https://pandas.pydata.org/pandas-docs/stable/user_guide/indexing.html#returning-a-view-versus-a-copy\n",
      "  self._update_inplace(new_data)\n",
      "/opt/conda/lib/python3.7/site-packages/ipykernel_launcher.py:18: SettingWithCopyWarning: \n",
      "A value is trying to be set on a copy of a slice from a DataFrame\n",
      "\n",
      "See the caveats in the documentation: https://pandas.pydata.org/pandas-docs/stable/user_guide/indexing.html#returning-a-view-versus-a-copy\n"
     ]
    },
    {
     "name": "stdout",
     "output_type": "stream",
     "text": [
      "Data converted to Sequences...\n"
     ]
    },
    {
     "data": {
      "image/png": "[encoded data removed]",
      "text/plain": [
       "<Figure size 432x288 with 1 Axes>"
      ]
     },
     "metadata": {},
     "output_type": "display_data"
    }
   ],
   "source": [
    "print(\"Initialising IMDB object\")\n",
    "\n",
    "imdb_deep_learning = IMDBSentiMentAnalysis(data,)\n",
    "\n",
    "imdb_deep_learning.process_data()"
   ]
  },
  {
   "cell_type": "markdown",
   "metadata": {
    "papermill": {
     "duration": 0.021551,
     "end_time": "2022-04-08T20:10:19.583057",
     "exception": false,
     "start_time": "2022-04-08T20:10:19.561506",
     "status": "completed"
    },
    "tags": []
   },
   "source": [
    "# Using GRU"
   ]
  },
  {
   "cell_type": "code",
   "execution_count": 5,
   "metadata": {
    "execution": {
     "iopub.execute_input": "2022-04-08T20:10:19.631703Z",
     "iopub.status.busy": "2022-04-08T20:10:19.631083Z",
     "iopub.status.idle": "2022-04-08T20:10:20.029008Z",
     "shell.execute_reply": "2022-04-08T20:10:20.028103Z",
     "shell.execute_reply.started": "2022-04-08T19:36:29.586045Z"
    },
    "papermill": {
     "duration": 0.424305,
     "end_time": "2022-04-08T20:10:20.029215",
     "exception": false,
     "start_time": "2022-04-08T20:10:19.604910",
     "status": "completed"
    },
    "tags": []
   },
   "outputs": [
    {
     "name": "stdout",
     "output_type": "stream",
     "text": [
      "Initialising default model\n",
      "Model: \"sequential\"\n",
      "_________________________________________________________________\n",
      "Layer (type)                 Output Shape              Param #   \n",
      "=================================================================\n",
      "embedding (Embedding)        (None, 100, 32)           320000    \n",
      "_________________________________________________________________\n",
      "gru (GRU)                    (None, 32)                6336      \n",
      "_________________________________________________________________\n",
      "flatten (Flatten)            (None, 32)                0         \n",
      "_________________________________________________________________\n",
      "dense (Dense)                (None, 1)                 33        \n",
      "=================================================================\n",
      "Total params: 326,369\n",
      "Trainable params: 326,369\n",
      "Non-trainable params: 0\n",
      "_________________________________________________________________\n"
     ]
    }
   ],
   "source": [
    "imdb_deep_learning.init_model(gru=True)"
   ]
  },
  {
   "cell_type": "code",
   "execution_count": 6,
   "metadata": {
    "execution": {
     "iopub.execute_input": "2022-04-08T20:10:20.090456Z",
     "iopub.status.busy": "2022-04-08T20:10:20.089486Z",
     "iopub.status.idle": "2022-04-08T20:16:57.633945Z",
     "shell.execute_reply": "2022-04-08T20:16:57.632748Z",
     "shell.execute_reply.started": "2022-04-08T19:36:29.816573Z"
    },
    "papermill": {
     "duration": 397.579924,
     "end_time": "2022-04-08T20:16:57.634101",
     "exception": false,
     "start_time": "2022-04-08T20:10:20.054177",
     "status": "completed"
    },
    "tags": []
   },
   "outputs": [
    {
     "name": "stdout",
     "output_type": "stream",
     "text": [
      "Epoch 1/10\n",
      "1250/1250 [==============================] - 39s 32ms/step - loss: 0.3931 - acc: 0.8184 - val_loss: 0.5283 - val_acc: 0.7440\n",
      "Epoch 2/10\n",
      "1250/1250 [==============================] - 39s 31ms/step - loss: 0.2716 - acc: 0.8880 - val_loss: 0.8812 - val_acc: 0.6485\n",
      "Epoch 3/10\n",
      "1250/1250 [==============================] - 40s 32ms/step - loss: 0.2410 - acc: 0.9031 - val_loss: 0.4325 - val_acc: 0.8170\n",
      "Epoch 4/10\n",
      "1250/1250 [==============================] - 40s 32ms/step - loss: 0.2184 - acc: 0.9131 - val_loss: 0.4862 - val_acc: 0.8060\n",
      "Epoch 5/10\n",
      "1250/1250 [==============================] - 38s 31ms/step - loss: 0.2011 - acc: 0.9189 - val_loss: 0.6092 - val_acc: 0.7605\n",
      "Epoch 6/10\n",
      "1250/1250 [==============================] - 39s 31ms/step - loss: 0.1891 - acc: 0.9250 - val_loss: 0.4375 - val_acc: 0.8298\n",
      "Epoch 7/10\n",
      "1250/1250 [==============================] - 40s 32ms/step - loss: 0.1762 - acc: 0.9317 - val_loss: 0.4973 - val_acc: 0.8025\n",
      "Epoch 8/10\n",
      "1250/1250 [==============================] - 40s 32ms/step - loss: 0.1631 - acc: 0.9372 - val_loss: 0.3912 - val_acc: 0.8408\n",
      "Epoch 9/10\n",
      "1250/1250 [==============================] - 39s 31ms/step - loss: 0.1521 - acc: 0.9421 - val_loss: 0.4957 - val_acc: 0.8191\n",
      "Epoch 10/10\n",
      "1250/1250 [==============================] - 40s 32ms/step - loss: 0.1411 - acc: 0.9463 - val_loss: 0.4664 - val_acc: 0.8271\n"
     ]
    },
    {
     "data": {
      "image/png": "[encoded data removed]",
      "text/plain": [
       "<Figure size 432x288 with 1 Axes>"
      ]
     },
     "metadata": {},
     "output_type": "display_data"
    },
    {
     "data": {
      "image/png": "[encoded data removed]",
      "text/plain": [
       "<Figure size 432x288 with 1 Axes>"
      ]
     },
     "metadata": {},
     "output_type": "display_data"
    }
   ],
   "source": [
    "imdb_deep_learning.run_the_model(epochs = 10)"
   ]
  },
  {
   "cell_type": "markdown",
   "metadata": {
    "papermill": {
     "duration": 1.539595,
     "end_time": "2022-04-08T20:17:00.723361",
     "exception": false,
     "start_time": "2022-04-08T20:16:59.183766",
     "status": "completed"
    },
    "tags": []
   },
   "source": [
    "# USING LSTM"
   ]
  },
  {
   "cell_type": "code",
   "execution_count": 7,
   "metadata": {
    "execution": {
     "iopub.execute_input": "2022-04-08T20:17:03.891425Z",
     "iopub.status.busy": "2022-04-08T20:17:03.890793Z",
     "iopub.status.idle": "2022-04-08T20:24:00.134585Z",
     "shell.execute_reply": "2022-04-08T20:24:00.134039Z",
     "shell.execute_reply.started": "2022-04-08T19:38:12.950199Z"
    },
    "papermill": {
     "duration": 417.811293,
     "end_time": "2022-04-08T20:24:00.134712",
     "exception": false,
     "start_time": "2022-04-08T20:17:02.323419",
     "status": "completed"
    },
    "tags": []
   },
   "outputs": [
    {
     "name": "stdout",
     "output_type": "stream",
     "text": [
      "Initialising default model\n",
      "Model: \"sequential_1\"\n",
      "_________________________________________________________________\n",
      "Layer (type)                 Output Shape              Param #   \n",
      "=================================================================\n",
      "embedding (Embedding)        (None, 100, 32)           320000    \n",
      "_________________________________________________________________\n",
      "lstm (LSTM)                  (None, 32)                8320      \n",
      "_________________________________________________________________\n",
      "flatten_1 (Flatten)          (None, 32)                0         \n",
      "_________________________________________________________________\n",
      "dense_1 (Dense)              (None, 1)                 33        \n",
      "=================================================================\n",
      "Total params: 328,353\n",
      "Trainable params: 328,353\n",
      "Non-trainable params: 0\n",
      "_________________________________________________________________\n",
      "Epoch 1/10\n",
      "1250/1250 [==============================] - 41s 33ms/step - loss: 0.3737 - acc: 0.8309 - val_loss: 0.8078 - val_acc: 0.6864\n",
      "Epoch 2/10\n",
      "1250/1250 [==============================] - 41s 32ms/step - loss: 0.2716 - acc: 0.8883 - val_loss: 0.5019 - val_acc: 0.7661\n",
      "Epoch 3/10\n",
      "1250/1250 [==============================] - 41s 32ms/step - loss: 0.2493 - acc: 0.8978 - val_loss: 0.4536 - val_acc: 0.8035\n",
      "Epoch 4/10\n",
      "1250/1250 [==============================] - 41s 33ms/step - loss: 0.2333 - acc: 0.9064 - val_loss: 0.4967 - val_acc: 0.7750\n",
      "Epoch 5/10\n",
      "1250/1250 [==============================] - 41s 33ms/step - loss: 0.2205 - acc: 0.9121 - val_loss: 0.5114 - val_acc: 0.7612\n",
      "Epoch 6/10\n",
      "1250/1250 [==============================] - 41s 33ms/step - loss: 0.2055 - acc: 0.9182 - val_loss: 0.4441 - val_acc: 0.8042\n",
      "Epoch 7/10\n",
      "1250/1250 [==============================] - 42s 33ms/step - loss: 0.1930 - acc: 0.9234 - val_loss: 0.5805 - val_acc: 0.7650\n",
      "Epoch 8/10\n",
      "1250/1250 [==============================] - 42s 34ms/step - loss: 0.1783 - acc: 0.9304 - val_loss: 0.4737 - val_acc: 0.8209\n",
      "Epoch 9/10\n",
      "1250/1250 [==============================] - 42s 33ms/step - loss: 0.1660 - acc: 0.9365 - val_loss: 0.5403 - val_acc: 0.8036\n",
      "Epoch 10/10\n",
      "1250/1250 [==============================] - 42s 34ms/step - loss: 0.1541 - acc: 0.9414 - val_loss: 0.5203 - val_acc: 0.7897\n"
     ]
    },
    {
     "data": {
      "image/png": "[encoded data removed]",
      "text/plain": [
       "<Figure size 432x288 with 1 Axes>"
      ]
     },
     "metadata": {},
     "output_type": "display_data"
    },
    {
     "data": {
      "image/png": "[encoded data removed]",
      "text/plain": [
       "<Figure size 432x288 with 1 Axes>"
      ]
     },
     "metadata": {},
     "output_type": "display_data"
    }
   ],
   "source": [
    "imdb_deep_learning.init_model(gru=False)\n",
    "imdb_deep_learning.run_the_model(epochs = 10)"
   ]
  },
  {
   "cell_type": "code",
   "execution_count": 8,
   "metadata": {
    "execution": {
     "iopub.execute_input": "2022-04-08T20:24:06.409858Z",
     "iopub.status.busy": "2022-04-08T20:24:06.408978Z",
     "iopub.status.idle": "2022-04-08T20:24:10.578597Z",
     "shell.execute_reply": "2022-04-08T20:24:10.578054Z",
     "shell.execute_reply.started": "2022-04-08T19:39:59.692648Z"
    },
    "papermill": {
     "duration": 7.307251,
     "end_time": "2022-04-08T20:24:10.578714",
     "exception": false,
     "start_time": "2022-04-08T20:24:03.271463",
     "status": "completed"
    },
    "tags": []
   },
   "outputs": [
    {
     "name": "stderr",
     "output_type": "stream",
     "text": [
      "\u001b[34m\u001b[1mwandb\u001b[0m: \u001b[33mWARNING\u001b[0m W&B installed but not logged in.  Run `wandb login` or set the WANDB_API_KEY env variable.\n"
     ]
    }
   ],
   "source": [
    "import os\n",
    "import numpy as np\n",
    "import pandas as pd\n",
    "import seaborn as sns\n",
    "import matplotlib.pyplot as plt\n",
    "from nltk.corpus import stopwords\n",
    "from nltk.stem import WordNetLemmatizer\n",
    "from nltk.tokenize import word_tokenize\n",
    "from wordcloud import WordCloud,STOPWORDS\n",
    "from bs4 import BeautifulSoup\n",
    "import re,string,unicodedata\n",
    "\n",
    "from sklearn.feature_extraction.text import CountVectorizer, TfidfVectorizer\n",
    "from sklearn.linear_model import LogisticRegression\n",
    "from sklearn.svm import LinearSVC\n",
    "from sklearn.ensemble import GradientBoostingClassifier\n",
    "from sklearn.naive_bayes import GaussianNB, MultinomialNB\n",
    "from sklearn.model_selection import train_test_split\n",
    "from sklearn.metrics import classification_report, accuracy_score, confusion_matrix, plot_confusion_matrix, plot_roc_curve, plot_precision_recall_curve\n",
    "from xgboost.sklearn import XGBClassifier\n",
    "\n",
    "import tensorflow as tf\n",
    "from tensorflow.keras.preprocessing.text import Tokenizer\n",
    "from tensorflow.keras.preprocessing.sequence import pad_sequences\n",
    "from tensorflow.keras.callbacks import ModelCheckpoint\n",
    "from tensorflow.keras.layers import Dense,Input, Embedding,LSTM,Dropout,Conv1D, MaxPooling1D, GlobalMaxPooling1D,Dropout,Bidirectional,Flatten,BatchNormalization\n",
    "from tensorflow.keras.callbacks import EarlyStopping\n",
    "from tensorflow.keras.models import Model\n",
    "from tensorflow.keras.optimizers import Adam\n",
    "from tensorflow.keras.utils import plot_model\n",
    "import transformers\n",
    "import tokenizers"
   ]
  },
  {
   "cell_type": "code",
   "execution_count": 9,
   "metadata": {
    "execution": {
     "iopub.execute_input": "2022-04-08T20:24:16.917515Z",
     "iopub.status.busy": "2022-04-08T20:24:16.908198Z",
     "iopub.status.idle": "2022-04-08T20:24:18.168770Z",
     "shell.execute_reply": "2022-04-08T20:24:18.168091Z",
     "shell.execute_reply.started": "2022-04-08T19:45:04.313298Z"
    },
    "papermill": {
     "duration": 4.398944,
     "end_time": "2022-04-08T20:24:18.168971",
     "exception": false,
     "start_time": "2022-04-08T20:24:13.770027",
     "status": "completed"
    },
    "tags": []
   },
   "outputs": [
    {
     "data": {
      "text/html": [
       "<div>\n",
       "<style scoped>\n",
       "    .dataframe tbody tr th:only-of-type {\n",
       "        vertical-align: middle;\n",
       "    }\n",
       "\n",
       "    .dataframe tbody tr th {\n",
       "        vertical-align: top;\n",
       "    }\n",
       "\n",
       "    .dataframe thead th {\n",
       "        text-align: right;\n",
       "    }\n",
       "</style>\n",
       "<table border=\"1\" class=\"dataframe\">\n",
       "  <thead>\n",
       "    <tr style=\"text-align: right;\">\n",
       "      <th></th>\n",
       "      <th>review</th>\n",
       "      <th>sentiment</th>\n",
       "    </tr>\n",
       "  </thead>\n",
       "  <tbody>\n",
       "    <tr>\n",
       "      <th>0</th>\n",
       "      <td>One of the other reviewers has mentioned that ...</td>\n",
       "      <td>positive</td>\n",
       "    </tr>\n",
       "    <tr>\n",
       "      <th>1</th>\n",
       "      <td>A wonderful little production. &lt;br /&gt;&lt;br /&gt;The...</td>\n",
       "      <td>positive</td>\n",
       "    </tr>\n",
       "    <tr>\n",
       "      <th>2</th>\n",
       "      <td>I thought this was a wonderful way to spend ti...</td>\n",
       "      <td>positive</td>\n",
       "    </tr>\n",
       "    <tr>\n",
       "      <th>3</th>\n",
       "      <td>Basically there's a family where a little boy ...</td>\n",
       "      <td>negative</td>\n",
       "    </tr>\n",
       "    <tr>\n",
       "      <th>4</th>\n",
       "      <td>Petter Mattei's \"Love in the Time of Money\" is...</td>\n",
       "      <td>positive</td>\n",
       "    </tr>\n",
       "  </tbody>\n",
       "</table>\n",
       "</div>"
      ],
      "text/plain": [
       "                                              review sentiment\n",
       "0  One of the other reviewers has mentioned that ...  positive\n",
       "1  A wonderful little production. <br /><br />The...  positive\n",
       "2  I thought this was a wonderful way to spend ti...  positive\n",
       "3  Basically there's a family where a little boy ...  negative\n",
       "4  Petter Mattei's \"Love in the Time of Money\" is...  positive"
      ]
     },
     "execution_count": 9,
     "metadata": {},
     "output_type": "execute_result"
    }
   ],
   "source": [
    "data=pd.read_csv('../input/imdb-dataset-of-50k-movie-reviews/IMDB Dataset.csv')\n",
    "data.head()"
   ]
  },
  {
   "cell_type": "code",
   "execution_count": 10,
   "metadata": {
    "execution": {
     "iopub.execute_input": "2022-04-08T20:24:24.354735Z",
     "iopub.status.busy": "2022-04-08T20:24:24.354026Z",
     "iopub.status.idle": "2022-04-08T20:25:46.293524Z",
     "shell.execute_reply": "2022-04-08T20:25:46.292928Z",
     "shell.execute_reply.started": "2022-04-08T19:48:45.571831Z"
    },
    "papermill": {
     "duration": 85.017356,
     "end_time": "2022-04-08T20:25:46.293654",
     "exception": false,
     "start_time": "2022-04-08T20:24:21.276298",
     "status": "completed"
    },
    "tags": []
   },
   "outputs": [
    {
     "name": "stderr",
     "output_type": "stream",
     "text": [
      "/opt/conda/lib/python3.7/site-packages/ipykernel_launcher.py:65: UserWarning: Pandas doesn't allow columns to be created via a new attribute name - see https://pandas.pydata.org/pandas-docs/stable/indexing.html#attribute-access\n"
     ]
    },
    {
     "data": {
      "text/html": [
       "<div>\n",
       "<style scoped>\n",
       "    .dataframe tbody tr th:only-of-type {\n",
       "        vertical-align: middle;\n",
       "    }\n",
       "\n",
       "    .dataframe tbody tr th {\n",
       "        vertical-align: top;\n",
       "    }\n",
       "\n",
       "    .dataframe thead th {\n",
       "        text-align: right;\n",
       "    }\n",
       "</style>\n",
       "<table border=\"1\" class=\"dataframe\">\n",
       "  <thead>\n",
       "    <tr style=\"text-align: right;\">\n",
       "      <th></th>\n",
       "      <th>review</th>\n",
       "      <th>sentiment</th>\n",
       "    </tr>\n",
       "  </thead>\n",
       "  <tbody>\n",
       "    <tr>\n",
       "      <th>0</th>\n",
       "      <td>one reviewer mentioned watching oz episode hoo...</td>\n",
       "      <td>positive</td>\n",
       "    </tr>\n",
       "    <tr>\n",
       "      <th>1</th>\n",
       "      <td>wonderful little production filming technique ...</td>\n",
       "      <td>positive</td>\n",
       "    </tr>\n",
       "    <tr>\n",
       "      <th>2</th>\n",
       "      <td>thought wonderful way spend time hot summer we...</td>\n",
       "      <td>positive</td>\n",
       "    </tr>\n",
       "    <tr>\n",
       "      <th>3</th>\n",
       "      <td>basically family little boy jake think zombie ...</td>\n",
       "      <td>negative</td>\n",
       "    </tr>\n",
       "    <tr>\n",
       "      <th>4</th>\n",
       "      <td>petter matteis love time money visually stunni...</td>\n",
       "      <td>positive</td>\n",
       "    </tr>\n",
       "  </tbody>\n",
       "</table>\n",
       "</div>"
      ],
      "text/plain": [
       "                                              review sentiment\n",
       "0  one reviewer mentioned watching oz episode hoo...  positive\n",
       "1  wonderful little production filming technique ...  positive\n",
       "2  thought wonderful way spend time hot summer we...  positive\n",
       "3  basically family little boy jake think zombie ...  negative\n",
       "4  petter matteis love time money visually stunni...  positive"
      ]
     },
     "execution_count": 10,
     "metadata": {},
     "output_type": "execute_result"
    }
   ],
   "source": [
    "stop = stopwords.words('english')\n",
    "wl = WordNetLemmatizer()\n",
    "mapping = {\"ain't\": \"is not\", \"aren't\": \"are not\",\"can't\": \"cannot\", \n",
    "           \"'cause\": \"because\", \"could've\": \"could have\", \"couldn't\": \"could not\", \n",
    "           \"didn't\": \"did not\",  \"doesn't\": \"does not\", \"don't\": \"do not\", \"hadn't\": \"had not\", \n",
    "           \"hasn't\": \"has not\", \"haven't\": \"have not\", \"he'd\": \"he would\",\"he'll\": \"he will\", \n",
    "           \"he's\": \"he is\", \"how'd\": \"how did\", \"how'd'y\": \"how do you\", \"how'll\": \"how will\", \n",
    "           \"how's\": \"how is\",  \"I'd\": \"I would\", \"I'd've\": \"I would have\", \"I'll\": \"I will\", \n",
    "           \"I'll've\": \"I will have\",\"I'm\": \"I am\", \"I've\": \"I have\", \"i'd\": \"i would\", \n",
    "           \"i'd've\": \"i would have\", \"i'll\": \"i will\",  \"i'll've\": \"i will have\",\n",
    "           \"i'm\": \"i am\", \"i've\": \"i have\", \"isn't\": \"is not\", \"it'd\": \"it would\", \n",
    "           \"it'd've\": \"it would have\", \"it'll\": \"it will\", \"it'll've\": \"it will have\",\n",
    "           \"it's\": \"it is\", \"let's\": \"let us\", \"ma'am\": \"madam\", \"mayn't\": \"may not\", \n",
    "           \"might've\": \"might have\",\"mightn't\": \"might not\",\"mightn't've\": \"might not have\", \n",
    "           \"must've\": \"must have\", \"mustn't\": \"must not\", \"mustn't've\": \"must not have\", \n",
    "           \"needn't\": \"need not\", \"needn't've\": \"need not have\",\"o'clock\": \"of the clock\", \n",
    "           \"oughtn't\": \"ought not\", \"oughtn't've\": \"ought not have\", \"shan't\": \"shall not\", \n",
    "           \"sha'n't\": \"shall not\", \"shan't've\": \"shall not have\", \"she'd\": \"she would\", \n",
    "           \"she'd've\": \"she would have\", \"she'll\": \"she will\", \"she'll've\": \"she will have\", \n",
    "           \"she's\": \"she is\", \"should've\": \"should have\", \"shouldn't\": \"should not\", \n",
    "           \"shouldn't've\": \"should not have\", \"so've\": \"so have\",\"so's\": \"so as\", \"this's\": \"this is\",\n",
    "           \"that'd\": \"that would\", \"that'd've\": \"that would have\", \"that's\": \"that is\", \n",
    "           \"there'd\": \"there would\", \"there'd've\": \"there would have\", \"there's\": \"there is\", \n",
    "           \"here's\": \"here is\",\"they'd\": \"they would\", \"they'd've\": \"they would have\", \n",
    "           \"they'll\": \"they will\", \"they'll've\": \"they will have\", \"they're\": \"they are\", \n",
    "           \"they've\": \"they have\", \"to've\": \"to have\", \"wasn't\": \"was not\", \"we'd\": \"we would\", \n",
    "           \"we'd've\": \"we would have\", \"we'll\": \"we will\", \"we'll've\": \"we will have\", \n",
    "           \"we're\": \"we are\", \"we've\": \"we have\", \"weren't\": \"were not\", \n",
    "           \"what'll\": \"what will\", \"what'll've\": \"what will have\",\"what're\": \"what are\",  \n",
    "           \"what's\": \"what is\", \"what've\": \"what have\", \"when's\": \"when is\", \"when've\": \"when have\", \n",
    "           \"where'd\": \"where did\", \"where's\": \"where is\", \"where've\": \"where have\", \"who'll\": \"who will\", \n",
    "           \"who'll've\": \"who will have\", \"who's\": \"who is\", \"who've\": \"who have\", \"why's\": \"why is\", \n",
    "           \"why've\": \"why have\", \"will've\": \"will have\", \"won't\": \"will not\", \"won't've\": \"will not have\", \n",
    "           \"would've\": \"would have\", \"wouldn't\": \"would not\", \"wouldn't've\": \"would not have\", \n",
    "           \"y'all\": \"you all\", \"y'all'd\": \"you all would\",\"y'all'd've\": \"you all would have\",\n",
    "           \"y'all're\": \"you all are\",\"y'all've\": \"you all have\",\"you'd\": \"you would\", \n",
    "           \"you'd've\": \"you would have\", \"you'll\": \"you will\", \"you'll've\": \"you will have\", \n",
    "           \"you're\": \"you are\", \"you've\": \"you have\" }\n",
    "#function to clean data\n",
    "def clean_text(text,lemmatize = True):\n",
    "    soup = BeautifulSoup(text, \"html.parser\") #remove html tags\n",
    "    text = soup.get_text()\n",
    "    text = ' '.join([mapping[t] if t in mapping else t for t in text.split(\" \")]) #expanding chatwords and contracts clearing contractions\n",
    "    emoji_clean= re.compile(\"[\"\n",
    "                           u\"\\U0001F600-\\U0001F64F\"  # emoticons\n",
    "                           u\"\\U0001F300-\\U0001F5FF\"  # symbols & pictographs\n",
    "                           u\"\\U0001F680-\\U0001F6FF\"  # transport & map symbols\n",
    "                           u\"\\U0001F1E0-\\U0001F1FF\"  # flags (iOS)\n",
    "                           u\"\\U00002702-\\U000027B0\"\n",
    "                           u\"\\U000024C2-\\U0001F251\"\n",
    "                           \"]+\", flags=re.UNICODE)\n",
    "    text = emoji_clean.sub(r'',text)\n",
    "    text = re.sub(r'\\.(?=\\S)', '. ',text) #add space after full stop\n",
    "    text = re.sub(r'http\\S+', '', text) #remove urls\n",
    "    text = \"\".join([word.lower() for word in text if word not in string.punctuation]) #remove punctuation\n",
    "    #tokens = re.split('\\W+', text) #create tokens\n",
    "    if lemmatize:\n",
    "        text = \" \".join([wl.lemmatize(word) for word in text.split() if word not in stop and word.isalpha()]) #lemmatize\n",
    "    else:\n",
    "        text = \" \".join([word for word in text.split() if word not in stop and word.isalpha()]) \n",
    "    return text\n",
    "data_copy = data.copy()\n",
    "data['review']=data['review'].apply(clean_text,lemmatize = True)\n",
    "#converting target variable to numeric labels\n",
    "data.label = [ 1 if each == \"positive\" else 0 for each in data.sentiment]\n",
    "#after converting labels\n",
    "data.head()"
   ]
  },
  {
   "cell_type": "code",
   "execution_count": 11,
   "metadata": {
    "execution": {
     "iopub.execute_input": "2022-04-08T20:25:52.630191Z",
     "iopub.status.busy": "2022-04-08T20:25:52.624776Z",
     "iopub.status.idle": "2022-04-08T20:26:41.942661Z",
     "shell.execute_reply": "2022-04-08T20:26:41.943198Z",
     "shell.execute_reply.started": "2022-04-08T19:50:16.810515Z"
    },
    "papermill": {
     "duration": 52.577908,
     "end_time": "2022-04-08T20:26:41.943353",
     "exception": false,
     "start_time": "2022-04-08T20:25:49.365445",
     "status": "completed"
    },
    "tags": []
   },
   "outputs": [],
   "source": [
    "#splitting into train and test\n",
    "data_copy['review']=data_copy['review'].apply(clean_text,lemmatize = False)\n",
    "#converting target variable to numerical value\n",
    "data_copy.sentiment = [ 1 if each == \"positive\" else 0 for each in data_copy.sentiment]\n",
    "train, test= train_test_split(data_copy, test_size=0.2, random_state=42)\n",
    "Xtrain, ytrain = train['review'], train['sentiment']\n",
    "Xtest, ytest = test['review'], test['sentiment']"
   ]
  },
  {
   "cell_type": "code",
   "execution_count": 12,
   "metadata": {
    "execution": {
     "iopub.execute_input": "2022-04-08T20:26:48.142624Z",
     "iopub.status.busy": "2022-04-08T20:26:48.141653Z",
     "iopub.status.idle": "2022-04-08T20:26:53.223187Z",
     "shell.execute_reply": "2022-04-08T20:26:53.223670Z",
     "shell.execute_reply.started": "2022-04-08T19:51:01.426099Z"
    },
    "papermill": {
     "duration": 8.150523,
     "end_time": "2022-04-08T20:26:53.223827",
     "exception": false,
     "start_time": "2022-04-08T20:26:45.073304",
     "status": "completed"
    },
    "tags": []
   },
   "outputs": [
    {
     "name": "stdout",
     "output_type": "stream",
     "text": [
      "Vocabulary of the dataset is :  136734\n"
     ]
    }
   ],
   "source": [
    "#set up the tokenizer\n",
    "MAX_VOCAB_SIZE = 10000\n",
    "tokenizer = Tokenizer(num_words = MAX_VOCAB_SIZE,oov_token=\"<oov>\")\n",
    "tokenizer.fit_on_texts(Xtrain)\n",
    "word_index = tokenizer.word_index\n",
    "#print(word_index)\n",
    "V = len(word_index)\n",
    "print(\"Vocabulary of the dataset is : \",V)"
   ]
  },
  {
   "cell_type": "code",
   "execution_count": 13,
   "metadata": {
    "execution": {
     "iopub.execute_input": "2022-04-08T20:26:59.498005Z",
     "iopub.status.busy": "2022-04-08T20:26:59.497372Z",
     "iopub.status.idle": "2022-04-08T20:27:03.236884Z",
     "shell.execute_reply": "2022-04-08T20:27:03.236238Z",
     "shell.execute_reply.started": "2022-04-08T19:51:09.867472Z"
    },
    "papermill": {
     "duration": 6.805599,
     "end_time": "2022-04-08T20:27:03.237009",
     "exception": false,
     "start_time": "2022-04-08T20:26:56.431410",
     "status": "completed"
    },
    "tags": []
   },
   "outputs": [
    {
     "name": "stdout",
     "output_type": "stream",
     "text": [
      "Maximum length of sequence in the list: 1406\n"
     ]
    }
   ],
   "source": [
    "##create sequences of reviews\n",
    "seq_train = tokenizer.texts_to_sequences(Xtrain)\n",
    "seq_test =  tokenizer.texts_to_sequences(Xtest)\n",
    "#choice of maximum length of sequences\n",
    "seq_len_list = [len(i) for i in seq_train + seq_test]\n",
    "\n",
    "#if we take the direct maximum then\n",
    "max_len=max(seq_len_list)\n",
    "print('Maximum length of sequence in the list: {}'.format(max_len))"
   ]
  },
  {
   "cell_type": "code",
   "execution_count": 14,
   "metadata": {
    "execution": {
     "iopub.execute_input": "2022-04-08T20:27:09.463034Z",
     "iopub.status.busy": "2022-04-08T20:27:09.462434Z",
     "iopub.status.idle": "2022-04-08T20:27:09.470422Z",
     "shell.execute_reply": "2022-04-08T20:27:09.471155Z",
     "shell.execute_reply.started": "2022-04-08T19:51:16.071076Z"
    },
    "papermill": {
     "duration": 3.085039,
     "end_time": "2022-04-08T20:27:09.471349",
     "exception": false,
     "start_time": "2022-04-08T20:27:06.386310",
     "status": "completed"
    },
    "tags": []
   },
   "outputs": [
    {
     "name": "stdout",
     "output_type": "stream",
     "text": [
      "Maximum length of the sequence when considering data only two standard deviations from average: 293\n"
     ]
    }
   ],
   "source": [
    "# when setting the maximum length of sequence, variability around the average is used.\n",
    "max_seq_len = np.mean(seq_len_list) + 2 * np.std(seq_len_list)\n",
    "max_seq_len = int(max_seq_len)\n",
    "print('Maximum length of the sequence when considering data only two standard deviations from average: {}'.format(max_seq_len))"
   ]
  },
  {
   "cell_type": "code",
   "execution_count": 15,
   "metadata": {
    "execution": {
     "iopub.execute_input": "2022-04-08T20:27:15.744714Z",
     "iopub.status.busy": "2022-04-08T20:27:15.744040Z",
     "iopub.status.idle": "2022-04-08T20:27:15.748854Z",
     "shell.execute_reply": "2022-04-08T20:27:15.748271Z",
     "shell.execute_reply.started": "2022-04-08T19:51:16.109270Z"
    },
    "papermill": {
     "duration": 3.147094,
     "end_time": "2022-04-08T20:27:15.748972",
     "exception": false,
     "start_time": "2022-04-08T20:27:12.601878",
     "status": "completed"
    },
    "tags": []
   },
   "outputs": [
    {
     "name": "stdout",
     "output_type": "stream",
     "text": [
      "The above calculated number coveres approximately 94.53 % of data\n"
     ]
    }
   ],
   "source": [
    "perc_covered = np.sum(np.array(seq_len_list) < max_seq_len) / len(seq_len_list)*100\n",
    "print('The above calculated number coveres approximately {} % of data'.format(np.round(perc_covered,2)))"
   ]
  },
  {
   "cell_type": "code",
   "execution_count": null,
   "metadata": {
    "papermill": {
     "duration": 3.120621,
     "end_time": "2022-04-08T20:27:40.637790",
     "exception": false,
     "start_time": "2022-04-08T20:27:37.517169",
     "status": "completed"
    },
    "tags": []
   },
   "outputs": [],
   "source": []
  },
  {
   "cell_type": "code",
   "execution_count": null,
   "metadata": {
    "papermill": {
     "duration": null,
     "end_time": null,
     "exception": null,
     "start_time": null,
     "status": "pending"
    },
    "tags": []
   },
   "outputs": [],
   "source": []
  },
  {
   "cell_type": "code",
   "execution_count": null,
   "metadata": {
    "papermill": {
     "duration": null,
     "end_time": null,
     "exception": null,
     "start_time": null,
     "status": "pending"
    },
    "tags": []
   },
   "outputs": [],
   "source": []
  }
 ],
 "metadata": {
  "kernelspec": {
   "display_name": "Python 3",
   "language": "python",
   "name": "python3"
  },
  "language_info": {
   "codemirror_mode": {
    "name": "ipython",
    "version": 3
   },
   "file_extension": ".py",
   "mimetype": "text/x-python",
   "name": "python",
   "nbconvert_exporter": "python",
   "pygments_lexer": "ipython3",
   "version": "3.7.7"
  },
  "papermill": {
   "duration": 1098.00462,
   "end_time": "2022-04-08T20:28:07.174464",
   "environment_variables": {},
   "exception": true,
   "input_path": "__notebook__.ipynb",
   "output_path": "__notebook__.ipynb",
   "parameters": {},
   "start_time": "2022-04-08T20:09:49.169844",
   "version": "2.1.0"
  }
 },
 "nbformat": 4,
 "nbformat_minor": 4
}
